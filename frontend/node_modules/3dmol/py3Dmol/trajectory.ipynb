{
 "cells": [
  {
   "cell_type": "code",
   "execution_count": 1,
   "id": "ea6aa829",
   "metadata": {},
   "outputs": [],
   "source": [
    "import py3Dmol\n",
    "import torch"
   ]
  },
  {
   "cell_type": "code",
   "execution_count": null,
   "id": "0d06ff5b",
   "metadata": {},
   "outputs": [],
   "source": []
  },
  {
   "cell_type": "code",
   "execution_count": 2,
   "id": "bbecdacd",
   "metadata": {
    "scrolled": true
   },
   "outputs": [],
   "source": [
    "coords = torch.zeros(10,2,3)\n",
    "coords[:,1,0] = torch.linspace(2,10,10)"
   ]
  },
  {
   "cell_type": "code",
   "execution_count": 9,
   "id": "6f9c5e53",
   "metadata": {},
   "outputs": [
    {
     "data": {
      "application/3dmoljs_load.v0": "<div id=\"3dmolviewer_16311103826400058\"  style=\"position: relative; width: 640px; height: 480px\">\n        <p id=\"3dmolwarning_16311103826400058\" style=\"background-color:#ffcccc;color:black\">You appear to be running in JupyterLab (or JavaScript failed to load for some other reason).  You need to install the 3dmol extension: <br>\n        <tt>jupyter labextension install jupyterlab_3dmol</tt></p>\n        </div>\n<script>\n\nvar loadScriptAsync = function(uri){\n  return new Promise((resolve, reject) => {\n    var tag = document.createElement('script');\n    tag.src = uri;\n    tag.async = true;\n    tag.onload = () => {\n      resolve();\n    };\n  var firstScriptTag = document.getElementsByTagName('script')[0];\n  firstScriptTag.parentNode.insertBefore(tag, firstScriptTag);\n});\n};\n\nif(typeof $3Dmolpromise === 'undefined') {\n$3Dmolpromise = null;\n  $3Dmolpromise = loadScriptAsync('https://3dmol.org/build/3Dmol.js');\n}\n\nvar viewer_16311103826400058 = null;\nvar warn = document.getElementById(\"3dmolwarning_16311103826400058\");\nif(warn) {\n    warn.parentNode.removeChild(warn);\n}\n$3Dmolpromise.then(function() {\nviewer_16311103826400058 = $3Dmol.createViewer($(\"#3dmolviewer_16311103826400058\"),{backgroundColor:\"white\"});\nviewer_16311103826400058.zoomTo();\n\tviewer_16311103826400058.addModel();\n\t\tviewer_16311103826400058.getModel().addAtoms([{\"x\": 0, \"y\": 0, \"z\": 0, \"elem\": \"C\"}, {\"x\": 2, \"y\": 0, \"z\": 0, \"elem\": \"C\"}]);\n\tviewer_16311103826400058.setStyle({\"sphere\": {}});\n\t\tviewer_16311103826400058.getModel().setCoordinates([[[0.0, 0.0, 0.0], [2.0, 0.0, 0.0]], [[0.0, 0.0, 0.0], [2.8888888359069824, 0.0, 0.0]], [[0.0, 0.0, 0.0], [3.777777671813965, 0.0, 0.0]], [[0.0, 0.0, 0.0], [4.666666507720947, 0.0, 0.0]], [[0.0, 0.0, 0.0], [5.55555534362793, 0.0, 0.0]], [[0.0, 0.0, 0.0], [6.44444465637207, 0.0, 0.0]], [[0.0, 0.0, 0.0], [7.333333492279053, 0.0, 0.0]], [[0.0, 0.0, 0.0], [8.222222328186035, 0.0, 0.0]], [[0.0, 0.0, 0.0], [9.11111068725586, 0.0, 0.0]], [[0.0, 0.0, 0.0], [10.0, 0.0, 0.0]]],\"array\");\n\tviewer_16311103826400058.animate();\n\tviewer_16311103826400058.zoomTo();\nviewer_16311103826400058.render();\n});\n</script>",
      "text/html": [
       "<div id=\"3dmolviewer_16311103826400058\"  style=\"position: relative; width: 640px; height: 480px\">\n",
       "        <p id=\"3dmolwarning_16311103826400058\" style=\"background-color:#ffcccc;color:black\">You appear to be running in JupyterLab (or JavaScript failed to load for some other reason).  You need to install the 3dmol extension: <br>\n",
       "        <tt>jupyter labextension install jupyterlab_3dmol</tt></p>\n",
       "        </div>\n",
       "<script>\n",
       "\n",
       "var loadScriptAsync = function(uri){\n",
       "  return new Promise((resolve, reject) => {\n",
       "    var tag = document.createElement('script');\n",
       "    tag.src = uri;\n",
       "    tag.async = true;\n",
       "    tag.onload = () => {\n",
       "      resolve();\n",
       "    };\n",
       "  var firstScriptTag = document.getElementsByTagName('script')[0];\n",
       "  firstScriptTag.parentNode.insertBefore(tag, firstScriptTag);\n",
       "});\n",
       "};\n",
       "\n",
       "if(typeof $3Dmolpromise === 'undefined') {\n",
       "$3Dmolpromise = null;\n",
       "  $3Dmolpromise = loadScriptAsync('https://3dmol.org/build/3Dmol.js');\n",
       "}\n",
       "\n",
       "var viewer_16311103826400058 = null;\n",
       "var warn = document.getElementById(\"3dmolwarning_16311103826400058\");\n",
       "if(warn) {\n",
       "    warn.parentNode.removeChild(warn);\n",
       "}\n",
       "$3Dmolpromise.then(function() {\n",
       "viewer_16311103826400058 = $3Dmol.createViewer($(\"#3dmolviewer_16311103826400058\"),{backgroundColor:\"white\"});\n",
       "viewer_16311103826400058.zoomTo();\n",
       "\tviewer_16311103826400058.addModel();\n",
       "\t\tviewer_16311103826400058.getModel().addAtoms([{\"x\": 0, \"y\": 0, \"z\": 0, \"elem\": \"C\"}, {\"x\": 2, \"y\": 0, \"z\": 0, \"elem\": \"C\"}]);\n",
       "\tviewer_16311103826400058.setStyle({\"sphere\": {}});\n",
       "\t\tviewer_16311103826400058.getModel().setCoordinates([[[0.0, 0.0, 0.0], [2.0, 0.0, 0.0]], [[0.0, 0.0, 0.0], [2.8888888359069824, 0.0, 0.0]], [[0.0, 0.0, 0.0], [3.777777671813965, 0.0, 0.0]], [[0.0, 0.0, 0.0], [4.666666507720947, 0.0, 0.0]], [[0.0, 0.0, 0.0], [5.55555534362793, 0.0, 0.0]], [[0.0, 0.0, 0.0], [6.44444465637207, 0.0, 0.0]], [[0.0, 0.0, 0.0], [7.333333492279053, 0.0, 0.0]], [[0.0, 0.0, 0.0], [8.222222328186035, 0.0, 0.0]], [[0.0, 0.0, 0.0], [9.11111068725586, 0.0, 0.0]], [[0.0, 0.0, 0.0], [10.0, 0.0, 0.0]]],\"array\");\n",
       "\tviewer_16311103826400058.animate();\n",
       "\tviewer_16311103826400058.zoomTo();\n",
       "viewer_16311103826400058.render();\n",
       "});\n",
       "</script>"
      ]
     },
     "metadata": {},
     "output_type": "display_data"
    },
    {
     "data": {
      "text/plain": [
       "<py3Dmol.view at 0x7f0049ca3280>"
      ]
     },
     "execution_count": 9,
     "metadata": {},
     "output_type": "execute_result"
    }
   ],
   "source": [
    "import py3Dmol\n",
    "import torch\n",
    "\n",
    "coords = torch.zeros(10,2,3)\n",
    "coords[:,1,0] = torch.linspace(2,10,10)\n",
    "\n",
    "v = py3Dmol.view()\n",
    "\n",
    "v.addModel()  #create an empty model\n",
    "v.getModel().addAtoms([{'x':0,'y':0,'z':0,'elem':'C'},{'x':2,'y':0,'z':0,'elem':'C'}]) #provide a list of dictionaries representing the atoms\n",
    "v.setStyle({'sphere':{}})\n",
    "v.getModel().setCoordinates(coords.numpy(),'array')\n",
    "v.animate()\n",
    "v.zoomTo()"
   ]
  },
  {
   "cell_type": "code",
   "execution_count": 4,
   "id": "c46bdd2c",
   "metadata": {},
   "outputs": [],
   "source": [
    "import json\n",
    "import numpy as np"
   ]
  },
  {
   "cell_type": "code",
   "execution_count": 5,
   "id": "55789960",
   "metadata": {},
   "outputs": [],
   "source": [
    "t = torch.tensor([0,3.0])\n",
    "a = np.array([0,4.0])"
   ]
  },
  {
   "cell_type": "code",
   "execution_count": 8,
   "id": "3dd055a6",
   "metadata": {},
   "outputs": [
    {
     "data": {
      "text/plain": [
       "'[[[0.0, 0.0, 0.0], [2.0, 0.0, 0.0]], [[0.0, 0.0, 0.0], [2.8888888359069824, 0.0, 0.0]], [[0.0, 0.0, 0.0], [3.777777671813965, 0.0, 0.0]], [[0.0, 0.0, 0.0], [4.666666507720947, 0.0, 0.0]], [[0.0, 0.0, 0.0], [5.55555534362793, 0.0, 0.0]], [[0.0, 0.0, 0.0], [6.44444465637207, 0.0, 0.0]], [[0.0, 0.0, 0.0], [7.333333492279053, 0.0, 0.0]], [[0.0, 0.0, 0.0], [8.222222328186035, 0.0, 0.0]], [[0.0, 0.0, 0.0], [9.11111068725586, 0.0, 0.0]], [[0.0, 0.0, 0.0], [10.0, 0.0, 0.0]]]'"
      ]
     },
     "execution_count": 8,
     "metadata": {},
     "output_type": "execute_result"
    }
   ],
   "source": [
    "json.dumps(coords.tolist())"
   ]
  },
  {
   "cell_type": "code",
   "execution_count": null,
   "id": "653e0334",
   "metadata": {},
   "outputs": [],
   "source": []
  }
 ],
 "metadata": {
  "kernelspec": {
   "display_name": "Python 3",
   "language": "python",
   "name": "python3"
  },
  "language_info": {
   "codemirror_mode": {
    "name": "ipython",
    "version": 3
   },
   "file_extension": ".py",
   "mimetype": "text/x-python",
   "name": "python",
   "nbconvert_exporter": "python",
   "pygments_lexer": "ipython3",
   "version": "3.8.10"
  }
 },
 "nbformat": 4,
 "nbformat_minor": 5
}
